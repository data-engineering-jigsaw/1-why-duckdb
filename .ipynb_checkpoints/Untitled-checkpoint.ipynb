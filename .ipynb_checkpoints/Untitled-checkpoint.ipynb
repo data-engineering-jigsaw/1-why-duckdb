{
 "cells": [
  {
   "cell_type": "markdown",
   "id": "87112aa9-1191-4449-94d5-4f97254dbf13",
   "metadata": {},
   "source": [
    "# Why DuckDb"
   ]
  },
  {
   "cell_type": "markdown",
   "id": "ce8a09a7-3650-4809-8f4d-833bed718a6f",
   "metadata": {},
   "source": [
    "### Introduction"
   ]
  },
  {
   "cell_type": "markdown",
   "id": "37f83ef3-1581-4410-a285-cdbf3863cb24",
   "metadata": {},
   "source": [
    "### Resources\n",
    "\n",
    "[DuckDB Spark](https://medium.com/datamindedbe/use-dbt-and-duckdb-instead-of-spark-in-data-pipelines-9063a31ea2b5)"
   ]
  },
  {
   "cell_type": "markdown",
   "id": "e70fb8b1-c920-4983-97f2-69feb8b64667",
   "metadata": {},
   "source": [
    "[DuckDB Tutorial](https://motherduck.com/blog/duckdb-tutorial-for-beginners/)"
   ]
  },
  {
   "cell_type": "code",
   "execution_count": null,
   "id": "02677777-b558-42db-a40a-76b5b21f6c35",
   "metadata": {},
   "outputs": [],
   "source": []
  }
 ],
 "metadata": {
  "kernelspec": {
   "display_name": "Python 3 (ipykernel)",
   "language": "python",
   "name": "python3"
  },
  "language_info": {
   "codemirror_mode": {
    "name": "ipython",
    "version": 3
   },
   "file_extension": ".py",
   "mimetype": "text/x-python",
   "name": "python",
   "nbconvert_exporter": "python",
   "pygments_lexer": "ipython3",
   "version": "3.9.12"
  }
 },
 "nbformat": 4,
 "nbformat_minor": 5
}
