{
 "cells": [
  {
   "cell_type": "markdown",
   "id": "87112aa9-1191-4449-94d5-4f97254dbf13",
   "metadata": {},
   "source": [
    "# Why DuckDb"
   ]
  },
  {
   "cell_type": "markdown",
   "id": "ce8a09a7-3650-4809-8f4d-833bed718a6f",
   "metadata": {},
   "source": [
    "### Introduction"
   ]
  },
  {
   "cell_type": "markdown",
   "id": "58ca07cf-564d-47c0-8190-034643a91945",
   "metadata": {},
   "source": [
    "DuckDB allows for query execution from a datalake -- so in that way is similar to Spark.  Also similar to Spark performs processes in memory.\n",
    "\n",
    "Unlike Spark, however, it only runs on a single computer instead of on a cluster of computers.  Running Spark on a single computer is not very efficient.\n",
    "\n",
    "But with computers having increased memory and hard drive capacity (1 terrabyte hard drives, and 256 GB of memory on AWS), using a cluster of machines is often not necessary.  So the idea with DuckDB is to get the benefits of in memory of processing and the low costs/accessibility of using a datalake without the storage costs.  "
   ]
  },
  {
   "cell_type": "markdown",
   "id": "37f83ef3-1581-4410-a285-cdbf3863cb24",
   "metadata": {},
   "source": [
    "### Resources\n",
    "\n",
    "[DuckDB Spark](https://medium.com/datamindedbe/use-dbt-and-duckdb-instead-of-spark-in-data-pipelines-9063a31ea2b5)"
   ]
  },
  {
   "cell_type": "markdown",
   "id": "e70fb8b1-c920-4983-97f2-69feb8b64667",
   "metadata": {},
   "source": [
    "[DuckDB Tutorial](https://motherduck.com/blog/duckdb-tutorial-for-beginners/)"
   ]
  },
  {
   "cell_type": "markdown",
   "id": "eaf7b334-fa5c-4c7f-bc39-72a80e0cdb46",
   "metadata": {},
   "source": [
    "[DuckDB Hype](https://betterprogramming.pub/duckdb-whats-the-hype-about-5d46aaa73196)"
   ]
  },
  {
   "cell_type": "code",
   "execution_count": null,
   "id": "aabc56ef-627a-4cc8-b2bb-33689db4833a",
   "metadata": {},
   "outputs": [],
   "source": []
  }
 ],
 "metadata": {
  "kernelspec": {
   "display_name": "Python 3 (ipykernel)",
   "language": "python",
   "name": "python3"
  },
  "language_info": {
   "codemirror_mode": {
    "name": "ipython",
    "version": 3
   },
   "file_extension": ".py",
   "mimetype": "text/x-python",
   "name": "python",
   "nbconvert_exporter": "python",
   "pygments_lexer": "ipython3",
   "version": "3.9.12"
  }
 },
 "nbformat": 4,
 "nbformat_minor": 5
}
